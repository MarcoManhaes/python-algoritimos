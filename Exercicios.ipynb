{
  "nbformat": 4,
  "nbformat_minor": 0,
  "metadata": {
    "colab": {
      "name": "Untitled0.ipynb",
      "provenance": [],
      "collapsed_sections": [],
      "authorship_tag": "ABX9TyOpcDFO2grlxEO5TUtMnYp1",
      "include_colab_link": true
    },
    "kernelspec": {
      "name": "python3",
      "display_name": "Python 3"
    },
    "language_info": {
      "name": "python"
    }
  },
  "cells": [
    {
      "cell_type": "markdown",
      "metadata": {
        "id": "view-in-github",
        "colab_type": "text"
      },
      "source": [
        "<a href=\"https://colab.research.google.com/github/MarcoManhaes/python-algoritimos/blob/main/Exercicios.ipynb\" target=\"_parent\"><img src=\"https://colab.research.google.com/assets/colab-badge.svg\" alt=\"Open In Colab\"/></a>"
      ]
    },
    {
      "cell_type": "code",
      "metadata": {
        "colab": {
          "base_uri": "https://localhost:8080/"
        },
        "id": "kSrq61x8Xxvo",
        "outputId": "2c261fd9-f389-4bc3-d0e3-0cb1fc357948"
      },
      "source": [
        "numero1 = int(input ('Digite um numero:'))\n",
        "numero2 = int(input ('Digite outro numero:'))"
      ],
      "execution_count": null,
      "outputs": [
        {
          "name": "stdout",
          "output_type": "stream",
          "text": [
            "Digite um numero:16\n",
            "Digite outro numero:2\n"
          ]
        }
      ]
    },
    {
      "cell_type": "code",
      "metadata": {
        "colab": {
          "base_uri": "https://localhost:8080/"
        },
        "id": "9rr_nS8bZcG0",
        "outputId": "098fb61e-a9f3-46b2-af45-74867bce4f43"
      },
      "source": [
        "print(f'soma: {numero1} + {numero2}: ', numero1 + numero2)\n",
        "print(f'subtração: {numero1} - {numero2}: ', numero1 - numero2)\n",
        "print(f'multiplicação: {numero1} * {numero2}: ', numero1 * numero2)\n",
        "print(f'divisão: {numero1} / {numero2}: ', numero1 / numero2)"
      ],
      "execution_count": null,
      "outputs": [
        {
          "output_type": "stream",
          "name": "stdout",
          "text": [
            "soma: 16 + 2:  18\n",
            "subtração: 16 - 2:  14\n",
            "multiplicação: 16 * 2:  32\n",
            "divisão: 16 / 2:  8.0\n"
          ]
        }
      ]
    },
    {
      "cell_type": "code",
      "metadata": {
        "colab": {
          "base_uri": "https://localhost:8080/"
        },
        "id": "jLvYTW6cc2W8",
        "outputId": "57bc7728-1a46-4e9b-ef44-719261d41fa9"
      },
      "source": [
        "velocidade = int(input ('Digite a velocidade média:'))\n",
        "tempo = int(input ('Digite o tempo gasto na viagem:'))\n",
        "distancia = velocidade * tempo\n",
        "combustivelGasto = float(distancia / 12)\n",
        "print('A quantidade de combustível gasto foi de : ', combustivelGasto, \" litros\" )"
      ],
      "execution_count": null,
      "outputs": [
        {
          "output_type": "stream",
          "name": "stdout",
          "text": [
            "Digite a velocidade média:85\n",
            "Digite o tempo gasto na viagem:6\n",
            "A quantidade de combustível gasto foi de :  42.5  litros\n"
          ]
        }
      ]
    },
    {
      "cell_type": "code",
      "metadata": {
        "id": "pyo1CtkYij5b"
      },
      "source": [
        "a = True"
      ],
      "execution_count": null,
      "outputs": []
    },
    {
      "cell_type": "code",
      "metadata": {
        "colab": {
          "base_uri": "https://localhost:8080/"
        },
        "id": "SnYTtgAyimDV",
        "outputId": "d9149191-5c2c-4058-e00f-4f093c4e6701"
      },
      "source": [
        "not a"
      ],
      "execution_count": null,
      "outputs": [
        {
          "output_type": "execute_result",
          "data": {
            "text/plain": [
              "False"
            ]
          },
          "metadata": {},
          "execution_count": 13
        }
      ]
    },
    {
      "cell_type": "code",
      "metadata": {
        "colab": {
          "base_uri": "https://localhost:8080/"
        },
        "id": "EJiZos55irep",
        "outputId": "7690bf6c-542b-4f77-92b2-c2ecae23287e"
      },
      "source": [
        "idade = int(input('Digite a idade:'))\n",
        "\n",
        "if idade < 0:\n",
        "  print('idade inválida')\n",
        "else: \n",
        "  if idade < 13:\n",
        "    print('criança')\n",
        "  else: \n",
        "    if idade  < 18:\n",
        "      print('adolecente')\n",
        "    else:\n",
        "      print('adulto')"
      ],
      "execution_count": null,
      "outputs": [
        {
          "output_type": "stream",
          "name": "stdout",
          "text": [
            "Digite a idade:18\n",
            "adulto\n"
          ]
        }
      ]
    },
    {
      "cell_type": "code",
      "metadata": {
        "colab": {
          "base_uri": "https://localhost:8080/"
        },
        "id": "KwgOpS2udags",
        "outputId": "188e55ec-61c9-40bd-a74d-ad19f6d07994"
      },
      "source": [
        "M1 = float(input('Digite a nota 1:'))\n",
        "M2 = float(input('Digite a nota 2:'))\n",
        "M3 = float(input('Digite a nota 3:'))\n",
        "\n",
        "media =  float((M1 + M2 + M3) / 3)\n",
        "print('media: ', media)\n",
        "\n",
        "if (media >= 0.0) & (media <= 4.0):\n",
        "  print('reprovado')\n",
        "else:\n",
        "  if (media => 4.1) & (media < 6):\n",
        "    print('pegou exame')\n",
        "    nota = float(input('Digite a nota do exame:'))\n",
        "    if nota => 6:\n",
        "      print('aprovado')\n",
        "    else:\n",
        "      print('reprovado')\n",
        "  else:\n",
        "    if (media > 6):\n",
        "      print('aprovado')"
      ],
      "execution_count": null,
      "outputs": [
        {
          "output_type": "stream",
          "name": "stdout",
          "text": [
            "Digite a nota 1:4\n",
            "Digite a nota 2:5\n",
            "Digite a nota 3:3\n",
            "media:  4.0\n"
          ]
        }
      ]
    },
    {
      "cell_type": "code",
      "metadata": {
        "colab": {
          "base_uri": "https://localhost:8080/"
        },
        "id": "atIfEXyy4nia",
        "outputId": "6257a4a3-fb32-4430-df84-9643210ba2b1"
      },
      "source": [
        "somaNota = 0.0\n",
        "for i in range(0, 5):\n",
        "  somaNota = somaNota + float(input('Digita a nota:'))\n",
        "\n",
        "media = somaNota / 5\n",
        "print('a média das notas é: ', media)"
      ],
      "execution_count": null,
      "outputs": [
        {
          "output_type": "stream",
          "name": "stdout",
          "text": [
            "Digita a nota:5\n",
            "Digita a nota:4\n",
            "Digita a nota:3\n",
            "Digita a nota:2\n",
            "Digita a nota:1\n",
            "a média das notas é:  3.0\n"
          ]
        }
      ]
    },
    {
      "cell_type": "code",
      "metadata": {
        "colab": {
          "base_uri": "https://localhost:8080/"
        },
        "id": "RdlyMjSZ72IL",
        "outputId": "65989fbc-5fb9-445f-dbcf-d33c99abbdf0"
      },
      "source": [
        "somaNota = 0.0\n",
        "i = 0\n",
        "while i < 5:\n",
        "  somaNota = somaNota + float(input('Digita a nota:'))\n",
        "  i = i + 1  \n",
        "media = somaNota / 5\n",
        "print('a média das notas é: ', media)"
      ],
      "execution_count": null,
      "outputs": [
        {
          "output_type": "stream",
          "name": "stdout",
          "text": [
            "Digita a nota:5\n",
            "Digita a nota:4\n",
            "Digita a nota:3\n",
            "Digita a nota:2\n",
            "Digita a nota:1\n",
            "a média das notas é:  3.0\n"
          ]
        }
      ]
    },
    {
      "cell_type": "code",
      "metadata": {
        "colab": {
          "base_uri": "https://localhost:8080/"
        },
        "id": "Hp_nbpR352A6",
        "outputId": "de52b81f-b344-4fe6-f474-b76acb9907a7"
      },
      "source": [
        "constante = 3\n",
        "print(\"tabuáda do 3:\\n\")\n",
        "for fator in range (1,11):\n",
        "  print(\"3 x \", fator, \" = \", int(constante * fator))"
      ],
      "execution_count": null,
      "outputs": [
        {
          "output_type": "stream",
          "name": "stdout",
          "text": [
            "tabuáda do 3:\n",
            "\n",
            "3 x  1  =  3\n",
            "3 x  2  =  6\n",
            "3 x  3  =  9\n",
            "3 x  4  =  12\n",
            "3 x  5  =  15\n",
            "3 x  6  =  18\n",
            "3 x  7  =  21\n",
            "3 x  8  =  24\n",
            "3 x  9  =  27\n",
            "3 x  10  =  30\n"
          ]
        }
      ]
    },
    {
      "cell_type": "code",
      "metadata": {
        "colab": {
          "base_uri": "https://localhost:8080/"
        },
        "id": "u8cxp50O7OHc",
        "outputId": "781cb104-f8a2-4b07-a3fe-6f8102a061fc"
      },
      "source": [
        "\n",
        "constante = 3\n",
        "print(\"tabuáda do 3:\\n\")\n",
        "fator = 1\n",
        "while fator < 11:\n",
        "  print(\"3 x \", fator, \" = \", int(constante * fator))\n",
        "  fator = fator + 1"
      ],
      "execution_count": null,
      "outputs": [
        {
          "output_type": "stream",
          "name": "stdout",
          "text": [
            "tabuáda do 3:\n",
            "\n",
            "3 x  1  =  3\n",
            "3 x  2  =  6\n",
            "3 x  3  =  9\n",
            "3 x  4  =  12\n",
            "3 x  5  =  15\n",
            "3 x  6  =  18\n",
            "3 x  7  =  21\n",
            "3 x  8  =  24\n",
            "3 x  9  =  27\n",
            "3 x  10  =  30\n"
          ]
        }
      ]
    },
    {
      "cell_type": "code",
      "metadata": {
        "colab": {
          "base_uri": "https://localhost:8080/"
        },
        "id": "jadiS_VhEybH",
        "outputId": "62afc36f-e295-4f83-d24a-b322f489a3c5"
      },
      "source": [
        "tupla = (\"aaa\", \"sss\", \"ddd\", \"fff\")\n",
        "tupla2 = (\"aaa\", \"sss\", \"ddd\", \"fff\")\n",
        "tupla3 = tupla + tupla2\n",
        "print(tupla3)"
      ],
      "execution_count": null,
      "outputs": [
        {
          "output_type": "stream",
          "name": "stdout",
          "text": [
            "('aaa', 'sss', 'ddd', 'fff', 'aaa', 'sss', 'ddd', 'fff')\n"
          ]
        }
      ]
    },
    {
      "cell_type": "code",
      "source": [
        "lNum = []\n",
        "for i in range(0, 5):\n",
        "  lNum.append(str(input('digite um numero: ')))\n",
        "\n",
        "soma = 0\n",
        "for i in lNum:\n",
        "  soma += float(i)\n",
        "print(soma)"
      ],
      "metadata": {
        "colab": {
          "base_uri": "https://localhost:8080/"
        },
        "id": "KZ9g_EngzKGM",
        "outputId": "ef7bb4a4-1c59-433f-dda0-48d400cc5971"
      },
      "execution_count": null,
      "outputs": [
        {
          "output_type": "stream",
          "name": "stdout",
          "text": [
            "digite um numero: 1\n",
            "digite um numero: 2\n",
            "digite um numero: 3\n",
            "digite um numero: 4\n",
            "digite um numero: 5\n",
            "15.0\n"
          ]
        }
      ]
    },
    {
      "cell_type": "code",
      "source": [
        "dicionario = {}\n",
        "for i in range(0,3):\n",
        "  dicionario.update({str(input('digite o nome: ')) : float(input('digite a nota: '))})\n",
        "\n",
        "print(dicionario)\n",
        "\n",
        "soma = 0\n",
        "for nome, nota in dicionario.items():\n",
        "  soma += nota\n",
        "print(f\"a soma das notas é :\", soma)\n"
      ],
      "metadata": {
        "colab": {
          "base_uri": "https://localhost:8080/"
        },
        "id": "L7ce2Cpv2A90",
        "outputId": "2e491446-7ffa-49f5-f2e8-9ef7e0c06a0b"
      },
      "execution_count": null,
      "outputs": [
        {
          "output_type": "stream",
          "name": "stdout",
          "text": [
            "digite o nome: Marco\n",
            "digite a nota: 8\n",
            "digite o nome: Naiara\n",
            "digite a nota: 10\n",
            "digite o nome: Antonio\n",
            "digite a nota: 9\n",
            "{'Marco': 8.0, 'Naiara': 10.0, 'Antonio': 9.0}\n",
            "a soma das notas é : 27.0\n"
          ]
        }
      ]
    },
    {
      "cell_type": "code",
      "source": [
        "import numpy as np\n",
        "\n",
        "matriz = np.array([[3, 4, 1],\n",
        "                   [3, 1, 5]])\n",
        "\n",
        "soma = 0\n",
        "for i in range(matriz.shape[0]):\n",
        "  valores = ''\n",
        "  for j in range(matriz.shape[1]):\n",
        "    valores += str(matriz[i][j])\n",
        "    soma += (matriz[i][j])\n",
        "  print(valores)\n",
        "print(soma)"
      ],
      "metadata": {
        "colab": {
          "base_uri": "https://localhost:8080/"
        },
        "id": "PgvfpIGS945E",
        "outputId": "1682e419-95bf-4c75-d084-d625778957b7"
      },
      "execution_count": null,
      "outputs": [
        {
          "output_type": "stream",
          "name": "stdout",
          "text": [
            "341\n",
            "315\n",
            "17\n"
          ]
        }
      ]
    },
    {
      "cell_type": "code",
      "source": [
        "def teste_funcao(a, b, c = 10):\n",
        "  return a + b + c\n",
        "\n",
        "result = teste_funcao(1, 4)\n",
        "print(result)\n",
        "result = teste_funcao(1, 4, 3)\n",
        "print(result)\n"
      ],
      "metadata": {
        "colab": {
          "base_uri": "https://localhost:8080/"
        },
        "id": "HWIOfd6wJksY",
        "outputId": "1e02f52e-3209-4af0-cac7-897fe7ee3373"
      },
      "execution_count": null,
      "outputs": [
        {
          "output_type": "stream",
          "name": "stdout",
          "text": [
            "15\n",
            "8\n"
          ]
        }
      ]
    },
    {
      "cell_type": "code",
      "source": [
        "with open('/content/texto.txt') as text:\n",
        "  for linha in text:\n",
        "    print(linha)"
      ],
      "metadata": {
        "colab": {
          "base_uri": "https://localhost:8080/"
        },
        "id": "pjRs_j7BAlJI",
        "outputId": "ff80d6a7-deeb-469b-e292-992db36d1e73"
      },
      "execution_count": null,
      "outputs": [
        {
          "output_type": "stream",
          "name": "stdout",
          "text": [
            "curso udemy\n",
            "\n",
            "fundamentos python\n",
            "\n",
            "algoritmos e estrutura de dados\n",
            "\n",
            "iniciando aprendizado!\n"
          ]
        }
      ]
    },
    {
      "cell_type": "code",
      "source": [
        "with open('/content/texto2.txt', 'w') as text2:\n",
        "  text2.write('Hello World! This is my text writed in file.')"
      ],
      "metadata": {
        "id": "UKKvgqzOYEkx"
      },
      "execution_count": null,
      "outputs": []
    },
    {
      "cell_type": "code",
      "source": [
        "with open('/content/dicionarioAlunos.txt', 'w') as alunos:\n",
        "  for nome, nota in dicionario.items():\n",
        "    alunos.writelines(f\"({nome}, {float(nota)})\\n\")"
      ],
      "metadata": {
        "id": "WG-TRCLyY9UE"
      },
      "execution_count": null,
      "outputs": []
    },
    {
      "cell_type": "code",
      "source": [
        "\n",
        "with open('/content/dicionarioAlunos.txt', 'r') as dicionarioAlunos:\n",
        "  for linha in dicionarioAlunos:\n",
        "    print(linha)"
      ],
      "metadata": {
        "colab": {
          "base_uri": "https://localhost:8080/"
        },
        "id": "FaXW3NhXeEn6",
        "outputId": "760fcfdc-ca1e-4398-86bf-3d31b3bb78aa"
      },
      "execution_count": null,
      "outputs": [
        {
          "output_type": "stream",
          "name": "stdout",
          "text": [
            "(Marco, 8.0)\n",
            "\n",
            "(Naiara, 10.0)\n",
            "\n",
            "(Antonio, 9.0)\n",
            "\n"
          ]
        }
      ]
    },
    {
      "cell_type": "code",
      "source": [
        "import numpy as np\n",
        "\n",
        "class VetorNaoOrdenado:\n",
        "  def __init__ (self, capacidade):\n",
        "    self.capacidade = capacidade\n",
        "    self.ultima_posicao = -1\n",
        "    self.valores = np.empty(self.capacidade, dtype=int)\n",
        "\n",
        "  def imprime(self):\n",
        "    if self.ultima_posicao == -1:\n",
        "      print(\"O vetor está vazio\")\n",
        "    else:\n",
        "      for i in range(self.ultima_posicao + 1):\n",
        "        print(i, \"-\", self.valores[i])"
      ],
      "metadata": {
        "id": "Vm7LxZjRmmET"
      },
      "execution_count": 3,
      "outputs": []
    },
    {
      "cell_type": "code",
      "source": [
        "vetor = VetorNaoOrdenado(5)"
      ],
      "metadata": {
        "id": "hUtK1QicorxB"
      },
      "execution_count": 4,
      "outputs": []
    },
    {
      "cell_type": "code",
      "source": [
        "vetor.imprime()"
      ],
      "metadata": {
        "colab": {
          "base_uri": "https://localhost:8080/"
        },
        "id": "sNTZaQ_0owth",
        "outputId": "715ce45c-bce6-4fb7-f8eb-a07e3bb8c309"
      },
      "execution_count": 5,
      "outputs": [
        {
          "output_type": "stream",
          "name": "stdout",
          "text": [
            "O vetor está vazio\n"
          ]
        }
      ]
    }
  ]
}